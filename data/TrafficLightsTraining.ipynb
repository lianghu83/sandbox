{
 "cells": [
  {
   "cell_type": "code",
   "execution_count": 1,
   "metadata": {},
   "outputs": [],
   "source": [
    "import numpy as np\n",
    "import glob\n",
    "from sklearn.model_selection import train_test_split"
   ]
  },
  {
   "cell_type": "code",
   "execution_count": 4,
   "metadata": {},
   "outputs": [
    {
     "name": "stdout",
     "output_type": "stream",
     "text": [
      "train: 715\n",
      "test: 80\n"
     ]
    }
   ],
   "source": [
    "image_paths = glob.glob('./rosbag/labeled/images/*.jpg')\n",
    "datasets = {}\n",
    "datasets[\"train\"], datasets[\"test\"] = train_test_split(image_paths, test_size=0.1, random_state=42)\n",
    "for dataset in [\"train\", \"test\"]:\n",
    "    print(\"{}: {}\".format(dataset, np.shape(datasets[dataset])[0]))\n",
    "    with open(\"traffic_lights_{}.txt\".format(dataset), 'w') as f:\n",
    "        f.write(\"\\n\".join(datasets[dataset]))"
   ]
  },
  {
   "cell_type": "code",
   "execution_count": null,
   "metadata": {},
   "outputs": [],
   "source": []
  }
 ],
 "metadata": {
  "kernelspec": {
   "display_name": "Python 3",
   "language": "python",
   "name": "python3"
  },
  "language_info": {
   "codemirror_mode": {
    "name": "ipython",
    "version": 3
   },
   "file_extension": ".py",
   "mimetype": "text/x-python",
   "name": "python",
   "nbconvert_exporter": "python",
   "pygments_lexer": "ipython3",
   "version": "3.6.5"
  }
 },
 "nbformat": 4,
 "nbformat_minor": 2
}
