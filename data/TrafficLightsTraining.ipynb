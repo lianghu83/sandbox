{
 "cells": [
  {
   "cell_type": "code",
   "execution_count": 1,
   "metadata": {},
   "outputs": [],
   "source": [
    "import numpy as np\n",
    "import glob\n",
    "import os\n",
    "from sklearn.model_selection import train_test_split"
   ]
  },
  {
   "cell_type": "code",
   "execution_count": 2,
   "metadata": {},
   "outputs": [
    {
     "name": "stdout",
     "output_type": "stream",
     "text": [
      "train: 398\n",
      "test: 45\n"
     ]
    }
   ],
   "source": [
    "# write the filename in file only if a label exists for it\n",
    "abs_path = os.path.abspath('.')\n",
    "image_paths = glob.glob(abs_path + '/simulator/labeled/labels/*.txt')\n",
    "\n",
    "datasets = {}\n",
    "datasets[\"train\"], datasets[\"test\"] = train_test_split(image_paths, test_size=0.1, random_state=42)\n",
    "\n",
    "for dataset in [\"train\", \"test\"]:\n",
    "    print(\"{}: {}\".format(dataset, np.shape(datasets[dataset])[0]))\n",
    "    with open(\"traffic_lights_sim_{}.txt\".format(dataset), 'w') as f:\n",
    "        for i in range(len(datasets[dataset])):\n",
    "            fname = os.path.dirname(datasets[dataset][i])[:-6] + 'images/' + os.path.basename(datasets[dataset][i])[:-3] + 'jpg'\n",
    "            f.write(fname + '\\n')"
   ]
  },
  {
   "cell_type": "code",
   "execution_count": null,
   "metadata": {},
   "outputs": [],
   "source": []
  }
 ],
 "metadata": {
  "kernelspec": {
   "display_name": "Python 3",
   "language": "python",
   "name": "python3"
  },
  "language_info": {
   "codemirror_mode": {
    "name": "ipython",
    "version": 3
   },
   "file_extension": ".py",
   "mimetype": "text/x-python",
   "name": "python",
   "nbconvert_exporter": "python",
   "pygments_lexer": "ipython3",
   "version": "3.7.1"
  }
 },
 "nbformat": 4,
 "nbformat_minor": 2
}
